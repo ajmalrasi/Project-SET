{
 "cells": [
  {
   "cell_type": "markdown",
   "metadata": {},
   "source": [
    "# Topic Detection using Machine Learning"
   ]
  },
  {
   "cell_type": "markdown",
   "metadata": {},
   "source": [
    "Importing Python Libraries\n",
    "\n",
    "Numpy http://www.numpy.org/\n",
    "\n",
    "NLTK https://www.nltk.org/\n",
    "\n",
    "Pandas https://pandas.pydata.org/\n",
    "\n",
    "TfLearn http://tflearn.org/\n",
    "\n",
    "RegexpTokenizer from NLTK http://www.nltk.org/api/nltk.tokenize.html\n",
    "\n",
    "SnowballStemmer from NLTK http://www.nltk.org/howto/stem.html\n",
    "\n",
    "Stopwords from NLTK https://pythonspot.com/nltk-stop-words/\n",
    "\n",
    "Training and Testing Data split from Sklearn http://scikit-learn.org/stable/modules/generated/sklearn.model_selection.train_test_split.html"
   ]
  },
  {
   "cell_type": "code",
   "execution_count": null,
   "metadata": {
    "collapsed": true
   },
   "outputs": [],
   "source": [
    "import numpy as np\n",
    "import nltk\n",
    "import os\n",
    "import json\n",
    "import datetime\n",
    "import time\n",
    "import random\n",
    "import tensorflow as tf\n",
    "import pandas as pd\n",
    "import tflearn\n",
    "from nltk.stem.snowball import SnowballStemmer\n",
    "from sklearn.model_selection import train_test_split\n",
    "from nltk.tokenize import RegexpTokenizer\n",
    "from nltk.corpus import stopwords\n",
    "stemmer = SnowballStemmer(\"english\")"
   ]
  },
  {
   "cell_type": "markdown",
   "metadata": {},
   "source": [
    "# Data Pre-Processing"
   ]
  },
  {
   "cell_type": "markdown",
   "metadata": {},
   "source": [
    "Import the training_data.csv file with pandas."
   ]
  },
  {
   "cell_type": "code",
   "execution_count": 29,
   "metadata": {},
   "outputs": [
    {
     "data": {
      "text/html": [
       "<div>\n",
       "<style>\n",
       "    .dataframe thead tr:only-child th {\n",
       "        text-align: right;\n",
       "    }\n",
       "\n",
       "    .dataframe thead th {\n",
       "        text-align: left;\n",
       "    }\n",
       "\n",
       "    .dataframe tbody tr th {\n",
       "        vertical-align: top;\n",
       "    }\n",
       "</style>\n",
       "<table border=\"1\" class=\"dataframe\">\n",
       "  <thead>\n",
       "    <tr style=\"text-align: right;\">\n",
       "      <th></th>\n",
       "      <th>Title</th>\n",
       "      <th>Country</th>\n",
       "      <th>Class</th>\n",
       "      <th>Topic</th>\n",
       "    </tr>\n",
       "  </thead>\n",
       "  <tbody>\n",
       "    <tr>\n",
       "      <th>0</th>\n",
       "      <td>Harper Lee's will, unsealed after a lawsuit, r...</td>\n",
       "      <td>USA</td>\n",
       "      <td>Entertainment</td>\n",
       "      <td>Celebrity</td>\n",
       "    </tr>\n",
       "    <tr>\n",
       "      <th>1</th>\n",
       "      <td>'Strikingly Opaque' Harper Lee Will Unsealed</td>\n",
       "      <td>USA</td>\n",
       "      <td>Entertainment</td>\n",
       "      <td>Celebrity</td>\n",
       "    </tr>\n",
       "    <tr>\n",
       "      <th>2</th>\n",
       "      <td>The Life, Death and Career of Harper Lee</td>\n",
       "      <td>USA</td>\n",
       "      <td>Entertainment</td>\n",
       "      <td>Celebrity</td>\n",
       "    </tr>\n",
       "    <tr>\n",
       "      <th>3</th>\n",
       "      <td>Harper Lee's will reveals lawyer holds control...</td>\n",
       "      <td>USA</td>\n",
       "      <td>Entertainment</td>\n",
       "      <td>Celebrity</td>\n",
       "    </tr>\n",
       "    <tr>\n",
       "      <th>4</th>\n",
       "      <td>Marvel's Stan Lee, 95, is dealing with 'a litt...</td>\n",
       "      <td>USA</td>\n",
       "      <td>Entertainment</td>\n",
       "      <td>Hollywood</td>\n",
       "    </tr>\n",
       "  </tbody>\n",
       "</table>\n",
       "</div>"
      ],
      "text/plain": [
       "                                               Title Country          Class  \\\n",
       "0  Harper Lee's will, unsealed after a lawsuit, r...     USA  Entertainment   \n",
       "1       'Strikingly Opaque' Harper Lee Will Unsealed     USA  Entertainment   \n",
       "2           The Life, Death and Career of Harper Lee     USA  Entertainment   \n",
       "3  Harper Lee's will reveals lawyer holds control...     USA  Entertainment   \n",
       "4  Marvel's Stan Lee, 95, is dealing with 'a litt...     USA  Entertainment   \n",
       "\n",
       "       Topic  \n",
       "0  Celebrity  \n",
       "1  Celebrity  \n",
       "2  Celebrity  \n",
       "3  Celebrity  \n",
       "4  Hollywood  "
      ]
     },
     "execution_count": 29,
     "metadata": {},
     "output_type": "execute_result"
    }
   ],
   "source": [
    "#Reading the training data using Pandas \n",
    "dataset = pd.read_csv('training_data.csv')\n",
    "\n",
    "#Printing out First Few Data \n",
    "dataset.head()"
   ]
  },
  {
   "cell_type": "code",
   "execution_count": 10,
   "metadata": {
    "collapsed": true
   },
   "outputs": [],
   "source": [
    "#Extracting Features X (Title) and Y (Topic) \n",
    "\n",
    "title = dataset.iloc[:,0:1].values\n",
    "topic = dataset.iloc[:,3:4].values\n"
   ]
  },
  {
   "cell_type": "markdown",
   "metadata": {},
   "source": [
    "# Splitting The Dataset to X_train, X_test, y_train, y_test\n",
    "\n",
    "X_train contains 80% of the Title from DataSet\n",
    "\n",
    "y_train contains 80% of the Label\n",
    "\n",
    "Separate it into a training (80%) and testing set(20%)."
   ]
  },
  {
   "cell_type": "code",
   "execution_count": null,
   "metadata": {
    "collapsed": true
   },
   "outputs": [],
   "source": [
    "#Splitting The Dataset to X_train, X_test, y_train, y_test\n",
    "X_train, X_test, y_train, y_test = train_test_split(title,topic,test_size=0.2,random_state=101)"
   ]
  },
  {
   "cell_type": "markdown",
   "metadata": {},
   "source": [
    "Now The data has been split for traing and testing\n",
    "\n",
    "X_train and y_train is appened to a Json"
   ]
  },
  {
   "cell_type": "code",
   "execution_count": 30,
   "metadata": {
    "collapsed": true
   },
   "outputs": [],
   "source": [
    "training_data = []\n",
    "topic_count = 0\n",
    "for split_x in X_train:\n",
    "    training_data.append({\"title\":split_x[0], \"topic\":y_train[topic_count][0]})\n",
    "    topic_count+=1"
   ]
  },
  {
   "cell_type": "markdown",
   "metadata": {},
   "source": [
    "# Cleaning our Training Data"
   ]
  },
  {
   "cell_type": "code",
   "execution_count": 12,
   "metadata": {},
   "outputs": [
    {
     "name": "stdout",
     "output_type": "stream",
     "text": [
      "515 sentences in training data\n"
     ]
    }
   ],
   "source": [
    "words = []\n",
    "topics = []\n",
    "documents = []\n",
    "ignore_words = ['?']\n",
    "bin_words = [1]\n",
    "print(\"{} sentences in training data\".format(len(training_data)))"
   ]
  },
  {
   "cell_type": "markdown",
   "metadata": {},
   "source": [
    "Using Regex Tokenizor to remove all the unwanted characters from \"Title\"\n",
    "\n",
    "aswell as Stopwords are removed\n",
    "\n",
    "Each sentence is split into words "
   ]
  },
  {
   "cell_type": "code",
   "execution_count": 13,
   "metadata": {
    "collapsed": true
   },
   "outputs": [],
   "source": [
    "tokenizer = RegexpTokenizer('\\w{3,20}')\n",
    "stop_words = set(stopwords.words('english'))\n",
    "for pattern in training_data:\n",
    "    w = tokenizer.tokenize(pattern['title'])\n",
    "    w = [stemmer.stem(wr.lower()) for wr in w if wr not in stop_words]\n",
    "    words.extend(w)\n",
    "    documents.append((w, pattern['topic']))\n",
    "    if pattern['topic'] not in topics:\n",
    "        topics.append(pattern['topic'])"
   ]
  },
  {
   "cell_type": "markdown",
   "metadata": {},
   "source": [
    "#### List of all words from the titles \"Bag of words\""
   ]
  },
  {
   "cell_type": "code",
   "execution_count": 14,
   "metadata": {
    "collapsed": true
   },
   "outputs": [],
   "source": [
    "words = list(set(words))"
   ]
  },
  {
   "cell_type": "code",
   "execution_count": 15,
   "metadata": {},
   "outputs": [
    {
     "name": "stdout",
     "output_type": "stream",
     "text": [
      "There are 1421 words in corpus\n"
     ]
    }
   ],
   "source": [
    "print(\"There are {} words in corpus\".format(len(words)))\n",
    "# for wrd in words:\n",
    "#     print(wrd,end='\\t')"
   ]
  },
  {
   "cell_type": "markdown",
   "metadata": {},
   "source": [
    "### Lists all Labels saved in topics variable"
   ]
  },
  {
   "cell_type": "code",
   "execution_count": 16,
   "metadata": {},
   "outputs": [
    {
     "name": "stdout",
     "output_type": "stream",
     "text": [
      "Electric Car\tTwitch\tSpaceX\tQuantum Computing\tVideo Game Console\tCricket\tCloud Computing\tOscar\tSmart Camera\tEgypt\tMars\tDonald Trump\tMilky Way\tStan Lee\tFormula One\tComputer Components\tCar\tElon Musk\tAstronomy\tSridevi\tJennifer Lawrence\tGoogle\tSmart Watch\tInternational Space Station\tGoogle Search\tMobile Game\tMoon\tEvolution\tPolitics\tCelebrity\tVoice Assistant\tiPhone\tAirplane\tSpace\tSmart Phone\tHockey\tVideo Game\tDark Matter\tNFL\tMobile World Congress\tPakistan\tAndroid\tBlack Holes\tPremier League\tSaturn\tSocial Media\tIndian Super League\tWill Smith\tWWE\tHollywood\tMusic Streaming\t"
     ]
    }
   ],
   "source": [
    "topics = list(set(topics))\n",
    "for tpc in topics:\n",
    "    print(tpc,end='\\t')"
   ]
  },
  {
   "cell_type": "markdown",
   "metadata": {},
   "source": [
    "# Creating our Training Data"
   ]
  },
  {
   "cell_type": "markdown",
   "metadata": {},
   "source": [
    "### Initializing variables"
   ]
  },
  {
   "cell_type": "code",
   "execution_count": 17,
   "metadata": {
    "collapsed": true
   },
   "outputs": [],
   "source": [
    "# create our training data\n",
    "training = []\n",
    "output = []\n",
    "# create an empty array for our output\n",
    "output_empty = [0] * len(topics)"
   ]
  },
  {
   "cell_type": "markdown",
   "metadata": {},
   "source": [
    "#### Each title is tokenized, cleaned and represented as 0 or 1 according to \"Bag of Words\" created ealier"
   ]
  },
  {
   "cell_type": "markdown",
   "metadata": {},
   "source": [
    "Tokenization is the process of breaking up the given text into units called tokens. The tokens may be words or number or punctuation mark. Tokenization does this task by locating word boundaries. Ending point of a word and beginning of the next word is called word boundaries. Tokenization is also known as word segmentation"
   ]
  },
  {
   "cell_type": "markdown",
   "metadata": {},
   "source": [
    "Each training set appened to \"training\" variable"
   ]
  },
  {
   "cell_type": "code",
   "execution_count": 18,
   "metadata": {
    "collapsed": true
   },
   "outputs": [],
   "source": [
    "# training set, bag of words for each sentence\n",
    "for doc in documents:\n",
    "    # initialize our bag of words\n",
    "    bag = []\n",
    "    # list of tokenized words for the pattern\n",
    "    pattern_words = doc[0]\n",
    "    # stem each word\n",
    "    \n",
    "    pattern_words = [stemmer.stem(word.lower()) for word in pattern_words]\n",
    "    pattern_words = [w for w in pattern_words if not w in stop_words]\n",
    "    # create our bag of words array\n",
    "    for w in words:\n",
    "        bag.append(1) if w in pattern_words else bag.append(0)\n",
    "        \n",
    "    # output is a '0' for each tag and '1' for current tag \n",
    "    output_row = list(output_empty)\n",
    "    output_row[topics.index(doc[1])] = 1\n",
    "    training.append([bag, output_row])"
   ]
  },
  {
   "cell_type": "markdown",
   "metadata": {},
   "source": [
    "Trained data is shuffled to produce better results"
   ]
  },
  {
   "cell_type": "code",
   "execution_count": 19,
   "metadata": {
    "collapsed": true
   },
   "outputs": [],
   "source": [
    "# shuffle our features and turn into np.array\n",
    "random.shuffle(training)\n",
    "training = np.array(training)\n",
    "\n",
    "# trainX contains the Bag of words and train_y contains the label/ category\n",
    "train_xi = list(training[:,0])\n",
    "train_yi = list(training[:,1])\n",
    "\n",
    "# x_data = tf.Variable(train_xi)\n",
    "# y_label = tf.Variable(train_yi)\n",
    "# holder_x = tf.placeholder(tf.int32,(None,len(train_xi)))"
   ]
  },
  {
   "cell_type": "markdown",
   "metadata": {},
   "source": [
    "# Training"
   ]
  },
  {
   "cell_type": "markdown",
   "metadata": {},
   "source": [
    "Trainig using TfLearn , TfLearn is a High level Tensorflow library"
   ]
  },
  {
   "cell_type": "markdown",
   "metadata": {},
   "source": [
    "### Building The Neural network with SoftMax activation function"
   ]
  },
  {
   "cell_type": "code",
   "execution_count": 20,
   "metadata": {
    "collapsed": true
   },
   "outputs": [],
   "source": [
    "# reset underlying graph data\n",
    "tf.reset_default_graph()\n",
    "# Build neural network\n",
    "net = tflearn.input_data(shape=[None, len(train_xi[0])])\n",
    "net = tflearn.fully_connected(net, 8)\n",
    "net = tflearn.fully_connected(net, 8)\n",
    "net = tflearn.fully_connected(net, len(train_yi[0]), activation='softmax')\n",
    "net = tflearn.regression(net)"
   ]
  },
  {
   "cell_type": "markdown",
   "metadata": {},
   "source": [
    "### Define the Densely Connected Network"
   ]
  },
  {
   "cell_type": "code",
   "execution_count": 23,
   "metadata": {},
   "outputs": [
    {
     "name": "stdout",
     "output_type": "stream",
     "text": [
      "INFO:tensorflow:Restoring parameters from C:\\Users\\kpajm\\tfdeeplearning\\model.tflearn\n"
     ]
    }
   ],
   "source": [
    "# Define model and setup tensorboard\n",
    "model = tflearn.DNN(net, tensorboard_dir='tflearn_logs')\n",
    "# Start training (apply gradient descent algorithm)\n",
    "\n",
    "# model.fit(train_xi, train_yi, n_epoch=1000, batch_size=8, show_metric=True)\n",
    "# model.save('model.tflearn')\n",
    "\n",
    "model.load(\"model.tflearn\")"
   ]
  },
  {
   "cell_type": "markdown",
   "metadata": {},
   "source": [
    "# Testing"
   ]
  },
  {
   "cell_type": "code",
   "execution_count": null,
   "metadata": {
    "collapsed": true
   },
   "outputs": [],
   "source": []
  },
  {
   "cell_type": "code",
   "execution_count": 24,
   "metadata": {
    "collapsed": true
   },
   "outputs": [],
   "source": [
    "# a method that takes in a sentence and list of all words\n",
    "# and returns the data in a form the can be fed to tensorflow\n",
    "def get_tf_record(sentence):\n",
    "    global words\n",
    "    # tokenize the pattern\n",
    "    sentence_words = nltk.word_tokenize(sentence)\n",
    "    # stem each word\n",
    "    sentence_words = [stemmer.stem(word.lower()) for word in sentence_words]\n",
    "    # bag of words\n",
    "    bow = [0]*len(words)\n",
    "    for s in sentence_words:\n",
    "        for i,w in enumerate(words):\n",
    "            if w == s:\n",
    "                bow[i] = 1\n",
    "    return(np.array(bow))"
   ]
  },
  {
   "cell_type": "markdown",
   "metadata": {},
   "source": [
    "### Argmax returns the Labels with Higher Probability"
   ]
  },
  {
   "cell_type": "markdown",
   "metadata": {},
   "source": [
    "Here the Accuracy of the model is pretty low due to the training dataset size\n",
    "\n",
    "Some of the predictions are wrong"
   ]
  },
  {
   "cell_type": "code",
   "execution_count": 25,
   "metadata": {},
   "outputs": [
    {
     "name": "stdout",
     "output_type": "stream",
     "text": [
      "4G Coverage Bound for the Moon in 2019\n",
      "['Social Media']\n",
      "=====================================================================================\n",
      "Good Morning, Here's A Duke Nukem 3D-Style Shooter\n",
      "['Celebrity']\n",
      "=====================================================================================\n",
      "Colleague of Ryan Seacrest's former stylist backs up claim the star repeatedly sexually harassed her\n",
      "['Social Media']\n",
      "=====================================================================================\n",
      "Free Fortnite: Battle Royale Items Available Now From Twitch Prime\n",
      "['Celebrity']\n",
      "=====================================================================================\n",
      "Spotify has filed to go public\n",
      "['Celebrity']\n",
      "=====================================================================================\n",
      "Google Clips review: a smart camera that doesn't make the grade\n",
      "['Celebrity']\n",
      "=====================================================================================\n",
      "LG G7 Shows Up at MWC With the Most Beautiful iPhone X Notch Ever\n",
      "['Celebrity']\n",
      "=====================================================================================\n",
      "Spotify has spent $10 billion on music royalties since its creation and it's a big part of why its bleeding money\n",
      "['Celebrity']\n",
      "=====================================================================================\n",
      "Pikachu Talk App Lets You Chat With The Iconic Pokémon Through Amazon Alexa, Google Assistant\n",
      "['WWE']\n",
      "=====================================================================================\n",
      "Rey Mysterio Vs John Cena? Fastlane Rumors on Road to Wrestlemania\n",
      "['Smart Watch']\n",
      "=====================================================================================\n",
      "Vero: What it is, why it's suddenly big, and how to delete it\n",
      "['Donald Trump']\n",
      "=====================================================================================\n",
      "Delete Vero? A movement has already started to ax the new social app\n",
      "['Social Media']\n",
      "=====================================================================================\n",
      "Big Update On The Undertaker's WrestleMania Status, Who John Cena Wanted To Work With, Rey Mysterio\n",
      "['Celebrity']\n",
      "=====================================================================================\n",
      "Jimmy Kimmel Reveals the True Hero of the 2017 Oscars Best Picture Mix-Up\n",
      "['Celebrity']\n",
      "=====================================================================================\n",
      "App Users Harder To Retain On Android Than iOS: Report\n",
      "['Celebrity']\n",
      "=====================================================================================\n",
      "Kevin Smith Fights Back Tears While Reflecting on His Life After \"Massive\" Heart Attack\n",
      "['Social Media']\n",
      "=====================================================================================\n",
      "Live Asian Wrestling Championships 2018, Women's 50 Kg Final: Vinesh Phogat vs Chun Lei, Live Match Updates\n",
      "['Celebrity']\n",
      "=====================================================================================\n",
      "Crytek replaces CEO Cevat Yerli with his brothers\n",
      "['Social Media']\n",
      "=====================================================================================\n",
      "Colbert Gleefully Mocks Kushner Downgrade: “How Will He Fix the Middle East Now?!”\n",
      "['Celebrity']\n",
      "=====================================================================================\n",
      "Streamer Admits to Killing a Dog on Purpose During Q&A on Twitch “Shitty Dog, Shitty Person”\n",
      "['Oscar']\n",
      "=====================================================================================\n",
      "A smartphone took me for a drive and stopped us crashing into a cyclist\n",
      "['Celebrity']\n",
      "=====================================================================================\n",
      "Watch the first teaser trailer for Ralph Breaks the Internet: Wreck-It Ralph 2\n",
      "['Social Media']\n",
      "=====================================================================================\n",
      "Spotify files for $1 billion IPO\n",
      "['Celebrity']\n",
      "=====================================================================================\n",
      "Sridevi Kapoor: India crowds say goodbye to Bollywood star\n",
      "['Hollywood']\n",
      "=====================================================================================\n",
      "All the social media opt-outs you need to activate right now\n",
      "['Oscar']\n",
      "=====================================================================================\n",
      "The Teaser for Wreck-It Ralph 2 Is Here, and It Might Remind You of a Chappelle's Show Skit\n",
      "['Smart Watch']\n",
      "=====================================================================================\n",
      "PS+ Free Games for March Announced, PS3 and Vita Support Ending Next Year\n",
      "['Donald Trump']\n",
      "=====================================================================================\n",
      "Big Update On The Undertaker's WrestleMania Status, Who John Cena Wanted To Work With, Rey Mysterio\n",
      "['Celebrity']\n",
      "=====================================================================================\n",
      " Nokia attempts a smartphone comeback with Android\n",
      "['Celebrity']\n",
      "=====================================================================================\n",
      "Vero social app tops charts but some users fleeing because of technical glitches, co-founder's past\n",
      "['Hollywood']\n",
      "=====================================================================================\n",
      "What's going on with Rey Mysterio and WWE?\n",
      "['Donald Trump']\n",
      "=====================================================================================\n",
      "Overwatch's newest hero is an armor-clad engineer named Brigitte\n",
      "['Social Media']\n",
      "=====================================================================================\n",
      "ISL 2017-18: Bengaluru FC end Kerala Blasters' semi-final hopes with two late goals\n",
      "['Social Media']\n",
      "=====================================================================================\n",
      "Experimentally demonstrated a toffoli gate in a semiconductor three-qubit system\n",
      "['Celebrity']\n",
      "=====================================================================================\n",
      "Is SZA Lowkey Psychic?\n",
      "['Smart Watch']\n",
      "=====================================================================================\n",
      "Nintendo Removes Switch Game Reviews from the eShop\n",
      "['Social Media']\n",
      "=====================================================================================\n",
      "Will Smith Says Georgia 'Gotta Do Something About These Bugs'\n",
      "['WWE']\n",
      "=====================================================================================\n",
      "Vinesh Phogat settles for silver at Asian Wrestling Championships\n",
      "['Hollywood']\n",
      "=====================================================================================\n",
      "Three Space Station Astronauts Return to Earth\n",
      "['Oscar']\n",
      "=====================================================================================\n",
      "If Fortnite is getting a jetpack, then so is Roseanne Barr\n",
      "['Celebrity']\n",
      "=====================================================================================\n",
      "Health-tracking apps to get your New Year's resolutions back on track\n",
      "['Celebrity']\n",
      "=====================================================================================\n",
      "Ryan Seacrest: US TV host rejects harassment allegations\n",
      "['Social Media']\n",
      "=====================================================================================\n",
      "Into The Breach Review\n",
      "['Celebrity']\n",
      "=====================================================================================\n",
      "A phone drove a Porsche, and I rode along\n",
      "['Celebrity']\n",
      "=====================================================================================\n",
      "This could be Fitbit's new smartwatch\n",
      "['Celebrity']\n",
      "=====================================================================================\n",
      "Google Shopping's 'gun' ban blocked people from buying wine\n",
      "['Oscar']\n",
      "=====================================================================================\n",
      "4G Mission to the Moon - YouTube\n",
      "['Celebrity']\n",
      "=====================================================================================\n",
      "3D Realms Returns With New “Old-School” Shooter, Ion Maiden, Built On 90's Tech\n",
      "['Celebrity']\n",
      "=====================================================================================\n",
      "Disney, built on franchises, says not everything needs to be a franchise\n",
      "['Oscar']\n",
      "=====================================================================================\n",
      "Rethinking 10 past Oscar best pictures — and what should have won\n",
      "['Celebrity']\n",
      "=====================================================================================\n",
      "Three Space Station Crew Members Return Home To Earth Closing 168-Day Mission\n",
      "['Celebrity']\n",
      "=====================================================================================\n",
      "PlayStation Plus won't include free PS3 and Vita games next year\n",
      "['Mobile Game']\n",
      "=====================================================================================\n",
      "West Indies and rivals scramble for 2019 lifeline\n",
      "['Social Media']\n",
      "=====================================================================================\n",
      "Even with double the subscribers, Spotify says Apple will always have an edge owning the app store\n",
      "['WWE']\n",
      "=====================================================================================\n",
      "Ryan Seacrest: US TV host rejects harassment allegations\n",
      "['Social Media']\n",
      "=====================================================================================\n",
      "RB Forte retires after 10 years with Bears, Jets\n",
      "['Celebrity']\n",
      "=====================================================================================\n",
      "Samsung's new Galaxy S9 smartphones are more expensive if you buy them from Verizon, AT&T, or Sprint\n",
      "['WWE']\n",
      "=====================================================================================\n",
      "Google's Slack alternative is available starting today\n",
      "['Donald Trump']\n",
      "=====================================================================================\n",
      "4G Mission to the Moon - YouTube\n",
      "['Celebrity']\n",
      "=====================================================================================\n",
      "Australia show stubborn resistance to South Africa attack on day one of Test\n",
      "['Hollywood']\n",
      "=====================================================================================\n",
      "Play the new 'Overwatch' support hero on test servers right now\n",
      "['Celebrity']\n",
      "=====================================================================================\n",
      "Stratolaunch, The World's Biggest Plane, Completes Its First Taxi Test And Is Launching In 2019\n",
      "['Celebrity']\n",
      "=====================================================================================\n",
      "Ryan Seacrest, the Oscars, and the Red Carpet's Existential Crisis\n",
      "['Donald Trump']\n",
      "=====================================================================================\n",
      "App Users Harder To Retain On Android Than iOS: Report\n",
      "['Celebrity']\n",
      "=====================================================================================\n",
      "The Life, Death and Career of Harper Lee\n",
      "['Oscar']\n",
      "=====================================================================================\n",
      "Millions of Europeans are asking Google to be 'forgotten' — here's why Americans don't have that same option\n",
      "['Donald Trump']\n",
      "=====================================================================================\n",
      "This Huawei phone is smart enough to drive a Porsche\n",
      "['Celebrity']\n",
      "=====================================================================================\n",
      "Meghan Markle and Prince Harry join Prince William and Kate in first royal engagement\n",
      "['Celebrity']\n",
      "=====================================================================================\n",
      "NASA's New Space Telescope Will Investigate Why Mars Lost So Much Water\n",
      "['Hollywood']\n",
      "=====================================================================================\n",
      "LittleThings blames 'catastrophic' Facebook algorithm changes for abrupt collapse\n",
      "['Celebrity']\n",
      "=====================================================================================\n",
      "Hangouts Chat, Google's Slack competitor, comes out of beta\n",
      "['Smart Watch']\n",
      "=====================================================================================\n",
      "Final Fantasy XV for PC is getting ridiculous Sims 4 outfits\n",
      "['Social Media']\n",
      "=====================================================================================\n",
      "BCCI Not To Send Indian Team For Pakistan Tournament, Event In Doubt\n",
      "['Social Media']\n",
      "=====================================================================================\n",
      "Play the new 'Overwatch' support hero on test servers right now\n",
      "['Celebrity']\n",
      "=====================================================================================\n",
      "Clearest Infrared Image of Milky Way's Central Region Unveiled\n",
      "['Celebrity']\n",
      "=====================================================================================\n",
      "A 4G network is headed to the moon\n",
      "['WWE']\n",
      "=====================================================================================\n",
      "What Spotify must do to survive\n",
      "['Celebrity']\n",
      "=====================================================================================\n",
      "Pikachu Talk App Lets You Chat With The Iconic Pokémon Through Amazon Alexa, Google Assistant\n",
      "['WWE']\n",
      "=====================================================================================\n",
      "What's going on with Rey Mysterio and WWE?\n",
      "['Donald Trump']\n",
      "=====================================================================================\n",
      "'Bloodborne' and 'Ratchet & Clank' lead March's PlayStation Plus lineup\n",
      "['Celebrity']\n",
      "=====================================================================================\n",
      "Duke Nukem 3D's Creators Just Released A New Shooter Built On a 1995 Engine\n",
      "['Smart Watch']\n",
      "=====================================================================================\n",
      "New Overwatch Character Is Brigitte, Here's What She Can Do\n",
      "['Donald Trump']\n",
      "=====================================================================================\n",
      "Lewis Hamilton leads busy day as Formula One tests resume after snowfall\n",
      "['Celebrity']\n",
      "=====================================================================================\n",
      "Boffins: Red planet microbes may just be resting\n",
      "['Celebrity']\n",
      "=====================================================================================\n",
      "Music streaming service Spotify looks to raise up to $1bn in IPO\n",
      "['Celebrity']\n",
      "=====================================================================================\n",
      "Here Are All The Notched Android Phones Of MWC 2018 To Rival iPhone X\n",
      "['Celebrity']\n",
      "=====================================================================================\n",
      "Vero was supposed to be the new Instagram. Then people started digging into the founder's past\n",
      "['Social Media']\n",
      "=====================================================================================\n",
      "Your Love of Your Old Smartphone Is a Problem for Apple and Samsung\n",
      "['Social Media']\n",
      "=====================================================================================\n",
      "Arsenal turn to painting pitch markings blue to combat snow during Manchester City clash\n",
      "['Celebrity']\n",
      "=====================================================================================\n",
      "New “Android Go” phones show how much you can get for $100\n",
      "['Celebrity']\n",
      "=====================================================================================\n",
      "LG G7 Shows Up at MWC With the Most Beautiful iPhone X Notch Ever\n",
      "['Celebrity']\n",
      "=====================================================================================\n",
      "Three years of the Right to be Forgotten.pdf - Google Drive\n",
      "['Hollywood']\n",
      "=====================================================================================\n",
      "Pokemon Fans Share Their Favorite Gaming Moments\n",
      "['Celebrity']\n",
      "=====================================================================================\n",
      "BioShock, Dishonored alumni bringing The Blackout Club to consoles in 2019\n",
      "['Oscar']\n",
      "=====================================================================================\n",
      "Oscars 2018: Our final predictions in the major categories\n",
      "['Celebrity']\n",
      "=====================================================================================\n",
      "Fitbit's 'Mass Appeal' Smartwatch Comes Without GPS\n",
      "['Celebrity']\n",
      "=====================================================================================\n",
      "Into the Breach comes with free copy of FTL: Advanced Edition through GOG and Humble\n",
      "['Celebrity']\n",
      "=====================================================================================\n",
      "Jeff Franklin Out As 'Fuller House' Showrunner Amid Allegations Of Inappropriate Behavior\n",
      "['Oscar']\n",
      "=====================================================================================\n",
      "Delete Vero? A movement has already started to ax the new social app\n",
      "['Social Media']\n",
      "=====================================================================================\n",
      "First the Moon, Then Earth: New Theory Reverses Formation Story\n",
      "['Celebrity']\n",
      "=====================================================================================\n",
      "Solid Lid: Fiat Shows Off Abarth 124 GT with Removable Carbon-Fiber Hardtop\n",
      "['WWE']\n",
      "=====================================================================================\n",
      "Forget SpaceX—Giant Catapult Will Launch Items Into Space For Just $500000\n",
      "['Social Media']\n",
      "=====================================================================================\n",
      "How the Galaxy S9 is built to withstand abuse much better than the Galaxy S8\n",
      "['Oscar']\n",
      "=====================================================================================\n",
      "Pikachu Talk App Lets You Chat With The Iconic Pokémon Through Amazon Alexa, Google Assistant\n",
      "['WWE']\n",
      "=====================================================================================\n",
      "Here Are All The Free PlayStation Plus Games For March (2018)\n",
      "['Celebrity']\n",
      "=====================================================================================\n",
      "Overwatch Update: Brigitte Revealed As New Hero in Latest Patch Notes\n",
      "['Celebrity']\n",
      "=====================================================================================\n",
      "Mobile World Congress 2018: 5 of the coolest things you need to know\n",
      "['Social Media']\n",
      "=====================================================================================\n",
      "Khloe Kardashian Opens Up About Brother Rob's Weight Gain: 'It's Debilitating'\n",
      "['Celebrity']\n",
      "=====================================================================================\n",
      "Fortnite's jetpacks delayed, Epic launches Twitch Prime exclusive cosmetics and heroes\n",
      "['Smart Watch']\n",
      "=====================================================================================\n",
      "Switch user reviews suddenly disappear from Nintendo's website\n",
      "['Celebrity']\n",
      "=====================================================================================\n",
      "Will Smith Does Not Like Georgia's Bugs (Video)\n",
      "['Donald Trump']\n",
      "=====================================================================================\n",
      "From AirPower to the biggest iPhone yet: all the new Apple hardware we expect this year\n",
      "['Donald Trump']\n",
      "=====================================================================================\n",
      "Many Disneyland employees struggle to pay living expenses, face homelessness, according to survey\n",
      "['Social Media']\n",
      "=====================================================================================\n",
      "Oscars' '#MeToo' dilemma\n",
      "['Celebrity']\n",
      "=====================================================================================\n",
      "Google releases info on 2.4 million 'right to be forgotten' requests\n",
      "['Celebrity']\n",
      "=====================================================================================\n",
      "The Blackout Club is a Stranger Things-like co-op horror game from ex-BioShock devs\n",
      "['Celebrity']\n",
      "=====================================================================================\n",
      "Vero Is Taking On Instagram By Fixing the One Thing Everyone Hates About Instagram\n",
      "['Donald Trump']\n",
      "=====================================================================================\n",
      "Elon Musk's Tesla Roadster May Contaminate Planet Mars With Bacteria From Earth\n",
      "['Oscar']\n",
      "=====================================================================================\n",
      "There are actually two species of African elephants, and it may mean the difference between life and death\n",
      "['Celebrity']\n",
      "=====================================================================================\n",
      "The CEO of Crytek has stepped down\n",
      "['Celebrity']\n",
      "=====================================================================================\n",
      "NFL declines comment on key question in effort to recover legal fees from Cowboys\n",
      "['Social Media']\n",
      "=====================================================================================\n",
      "Wednesday in CE: Huawei's Mate 10 Driven Porsche Catapults AI Capabilities\n",
      "['Celebrity']\n",
      "=====================================================================================\n",
      "Facebook rolls out job posts to become the blue-collar LinkedIn\n",
      "['Oscar']\n",
      "=====================================================================================\n",
      "Porsche head of battery electric vehicles goes deep on the Mission E\n",
      "['Mobile Game']\n",
      "=====================================================================================\n",
      "Google Has Received 650000 'Right To Be Forgotten' Requests Since 2014\n",
      "['Celebrity']\n",
      "=====================================================================================\n",
      "Barbra Streisand Cloned Her Dog. Here's How Much That Costs\n",
      "['Celebrity']\n",
      "=====================================================================================\n",
      "After allegations, Kelly Ripa takes dig at Ryan Seacrest\n",
      "['Celebrity']\n",
      "=====================================================================================\n",
      "Apple Watch Series 3 will track your shredding on the slopes\n",
      "['WWE']\n",
      "=====================================================================================\n",
      "High-resolution image of the core of the Milky Way reveals surprisingly low star formation\n",
      "['Oscar']\n",
      "=====================================================================================\n"
     ]
    }
   ],
   "source": [
    "# we can start to predict the results for each of the 4 sentences\n",
    "for x_split in X_test:\n",
    "    print(x_split[0])\n",
    "    print(topic[np.argmax(model.predict([get_tf_record(x_split[0])]))])\n",
    "    print(\"=\"*85)"
   ]
  },
  {
   "cell_type": "code",
   "execution_count": null,
   "metadata": {
    "collapsed": true
   },
   "outputs": [],
   "source": []
  }
 ],
 "metadata": {
  "kernelspec": {
   "display_name": "Python 3",
   "language": "python",
   "name": "python3"
  },
  "language_info": {
   "codemirror_mode": {
    "name": "ipython",
    "version": 3
   },
   "file_extension": ".py",
   "mimetype": "text/x-python",
   "name": "python",
   "nbconvert_exporter": "python",
   "pygments_lexer": "ipython3",
   "version": "3.5.4"
  }
 },
 "nbformat": 4,
 "nbformat_minor": 2
}
